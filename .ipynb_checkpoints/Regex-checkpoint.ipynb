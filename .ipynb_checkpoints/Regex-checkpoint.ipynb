{
 "cells": [
  {
   "cell_type": "markdown",
   "id": "4743b1e8",
   "metadata": {},
   "source": [
    "### Regex project\n",
    "\n",
    "Use python to read the file regex_test.txt and print the last name on each line using regular expressions and groups (return None for names with no first and last name, or names that aren't properly capitalized)\n",
    "##### Hint: use with open() and readlines()"
   ]
  },
  {
   "cell_type": "code",
   "execution_count": 70,
   "id": "481c3b7e",
   "metadata": {},
   "outputs": [
    {
     "name": "stdout",
     "output_type": "stream",
     "text": [
      "['Abraham Lincoln\\n', 'Andrew P Garfield\\n', 'Connor Milliken\\n', 'Jordan Alexander Williams\\n', 'Madonna\\n', 'programming is cool\\n']\n",
      "Abraham Lincoln\n",
      "\n",
      "Andrew P Garfield\n",
      "\n",
      "Connor Milliken\n",
      "\n",
      "Jordan Alexander Williams\n",
      "\n",
      "None\n",
      "None\n"
     ]
    }
   ],
   "source": [
    "import re\n",
    "lst = []\n",
    "with open(\"regex_test.txt\",\"r\") as file:\n",
    "    lst = file.readlines()\n",
    "print(lst)\n",
    "\n",
    "def valid_name(name):\n",
    "    pattern = re.compile('[A-Z][a-z]+\\s[A-Z]?[a-z]*\\s?[A-Z][a-z]+')\n",
    "    if pattern.match(name):\n",
    "        return name\n",
    "    return None\n",
    "    \n",
    "    \n",
    "for name in lst:\n",
    "    print(valid_name(name))\n",
    "    "
   ]
  },
  {
   "cell_type": "code",
   "execution_count": null,
   "id": "21334ac0",
   "metadata": {},
   "outputs": [],
   "source": []
  }
 ],
 "metadata": {
  "kernelspec": {
   "display_name": "Python 3 (ipykernel)",
   "language": "python",
   "name": "python3"
  },
  "language_info": {
   "codemirror_mode": {
    "name": "ipython",
    "version": 3
   },
   "file_extension": ".py",
   "mimetype": "text/x-python",
   "name": "python",
   "nbconvert_exporter": "python",
   "pygments_lexer": "ipython3",
   "version": "3.9.12"
  }
 },
 "nbformat": 4,
 "nbformat_minor": 5
}
